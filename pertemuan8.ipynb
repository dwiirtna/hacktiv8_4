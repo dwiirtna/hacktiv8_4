{
 "cells": [
  {
   "attachments": {},
   "cell_type": "markdown",
   "metadata": {},
   "source": [
    "data: https://raw.githubusercontent.com/ardhiraka/PFDS_sources/master/alice_novel.txt"
   ]
  },
  {
   "cell_type": "code",
   "execution_count": 10,
   "metadata": {},
   "outputs": [
    {
     "name": "stdout",
     "output_type": "stream",
     "text": [
      "Matplotlib version:  3.5.2\n"
     ]
    }
   ],
   "source": [
    "\n",
    "import matplotlib as mpl\n",
    "import matplotlib.pyplot as plt\n",
    "from PIL import Image\n",
    "import numpy as np\n",
    "\n",
    "\n",
    "mpl.style.use('fivethirtyeight')\n",
    "print('Matplotlib version: ', mpl.__version__) "
   ]
  },
  {
   "cell_type": "code",
   "execution_count": null,
   "metadata": {},
   "outputs": [],
   "source": []
  },
  {
   "cell_type": "code",
   "execution_count": null,
   "metadata": {},
   "outputs": [],
   "source": []
  },
  {
   "cell_type": "code",
   "execution_count": 6,
   "metadata": {},
   "outputs": [],
   "source": [
    "alice_novel = open('data/alice_novel.txt', 'r').read()"
   ]
  },
  {
   "cell_type": "code",
   "execution_count": 7,
   "metadata": {},
   "outputs": [
    {
     "data": {
      "text/plain": [
       "str"
      ]
     },
     "execution_count": 7,
     "metadata": {},
     "output_type": "execute_result"
    }
   ],
   "source": [
    "type(alice_novel)"
   ]
  },
  {
   "cell_type": "code",
   "execution_count": 2,
   "metadata": {},
   "outputs": [
    {
     "name": "stdout",
     "output_type": "stream",
     "text": [
      "Collecting package metadata (current_repodata.json): ...working... done\n",
      "Solving environment: ...working... done\n",
      "\n",
      "## Package Plan ##\n",
      "\n",
      "  environment location: C:\\Users\\Dwi\\anaconda3\n",
      "\n",
      "  added / updated specs:\n",
      "    - xlrd\n",
      "\n",
      "\n",
      "The following packages will be downloaded:\n",
      "\n",
      "    package                    |            build\n",
      "    ---------------------------|-----------------\n",
      "    conda-23.1.0               |   py39haa95532_0         980 KB  anaconda\n",
      "    ------------------------------------------------------------\n",
      "                                           Total:         980 KB\n",
      "\n",
      "The following packages will be SUPERSEDED by a higher-priority channel:\n",
      "\n",
      "  conda                                           pkgs/main --> anaconda \n",
      "\n",
      "\n",
      "\n",
      "Downloading and Extracting Packages\n",
      "\n",
      "conda-23.1.0         | 980 KB    |            |   0% \n",
      "conda-23.1.0         | 980 KB    | 1          |   2% \n",
      "conda-23.1.0         | 980 KB    | 6          |   7% \n",
      "conda-23.1.0         | 980 KB    | 9          |  10% \n",
      "conda-23.1.0         | 980 KB    | #4         |  15% \n",
      "conda-23.1.0         | 980 KB    | #7         |  18% \n",
      "conda-23.1.0         | 980 KB    | #9         |  20% \n",
      "conda-23.1.0         | 980 KB    | ##4        |  25% \n",
      "conda-23.1.0         | 980 KB    | ##7        |  28% \n",
      "conda-23.1.0         | 980 KB    | ###1       |  31% \n",
      "conda-23.1.0         | 980 KB    | ###4       |  34% \n",
      "conda-23.1.0         | 980 KB    | ###7       |  38% \n",
      "conda-23.1.0         | 980 KB    | ####       |  41% \n",
      "conda-23.1.0         | 980 KB    | ####4      |  44% \n",
      "conda-23.1.0         | 980 KB    | ####7      |  47% \n",
      "conda-23.1.0         | 980 KB    | ####9      |  49% \n",
      "conda-23.1.0         | 980 KB    | #####      |  51% \n",
      "conda-23.1.0         | 980 KB    | #####5     |  56% \n",
      "conda-23.1.0         | 980 KB    | #####7     |  57% \n",
      "conda-23.1.0         | 980 KB    | #####8     |  59% \n",
      "conda-23.1.0         | 980 KB    | ######     |  60% \n",
      "conda-23.1.0         | 980 KB    | ######2    |  62% \n",
      "conda-23.1.0         | 980 KB    | ######3    |  64% \n",
      "conda-23.1.0         | 980 KB    | ######5    |  65% \n",
      "conda-23.1.0         | 980 KB    | ######6    |  67% \n",
      "conda-23.1.0         | 980 KB    | ######8    |  69% \n",
      "conda-23.1.0         | 980 KB    | #######    |  70% \n",
      "conda-23.1.0         | 980 KB    | #######1   |  72% \n",
      "conda-23.1.0         | 980 KB    | #######3   |  74% \n",
      "conda-23.1.0         | 980 KB    | #######5   |  75% \n",
      "conda-23.1.0         | 980 KB    | #######6   |  77% \n",
      "conda-23.1.0         | 980 KB    | #######8   |  78% \n",
      "conda-23.1.0         | 980 KB    | ########   |  80% \n",
      "conda-23.1.0         | 980 KB    | ########1  |  82% \n",
      "conda-23.1.0         | 980 KB    | ########3  |  83% \n",
      "conda-23.1.0         | 980 KB    | ########4  |  85% \n",
      "conda-23.1.0         | 980 KB    | ########6  |  87% \n",
      "conda-23.1.0         | 980 KB    | ########9  |  90% \n",
      "conda-23.1.0         | 980 KB    | #########3 |  93% \n",
      "conda-23.1.0         | 980 KB    | #########4 |  95% \n",
      "conda-23.1.0         | 980 KB    | #########8 |  98% \n",
      "conda-23.1.0         | 980 KB    | ########## | 100% \n",
      "conda-23.1.0         | 980 KB    | ########## | 100% \n",
      "                                                     \n",
      "\n",
      "\n",
      "Preparing transaction: ...working... done\n",
      "Verifying transaction: ...working... done\n",
      "Executing transaction: ...working... done\n"
     ]
    }
   ],
   "source": [
    "!conda install -c anaconda xlrd --yes"
   ]
  },
  {
   "cell_type": "code",
   "execution_count": null,
   "metadata": {},
   "outputs": [],
   "source": []
  }
 ],
 "metadata": {
  "kernelspec": {
   "display_name": "base",
   "language": "python",
   "name": "python3"
  },
  "language_info": {
   "codemirror_mode": {
    "name": "ipython",
    "version": 3
   },
   "file_extension": ".py",
   "mimetype": "text/x-python",
   "name": "python",
   "nbconvert_exporter": "python",
   "pygments_lexer": "ipython3",
   "version": "3.9.13"
  },
  "orig_nbformat": 4
 },
 "nbformat": 4,
 "nbformat_minor": 2
}
