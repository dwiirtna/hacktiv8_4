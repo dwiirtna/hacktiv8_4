{
 "cells": [
  {
   "attachments": {},
   "cell_type": "markdown",
   "metadata": {},
   "source": [
    "## Function, Module, and Package\n",
    "\n",
    "f(x)\n",
    "g(x)\n",
    "\n",
    "f(x) = x^2 + 2x + 3"
   ]
  },
  {
   "cell_type": "code",
   "execution_count": 1,
   "metadata": {},
   "outputs": [],
   "source": [
    "def f(x):\n",
    "    value = x**2 + (2*x) + 3\n",
    "    return value"
   ]
  },
  {
   "cell_type": "code",
   "execution_count": 2,
   "metadata": {},
   "outputs": [],
   "source": [
    "var1 = f(1)\n",
    "var2 = f(3)"
   ]
  },
  {
   "cell_type": "code",
   "execution_count": 3,
   "metadata": {},
   "outputs": [],
   "source": [
    "def factorials(n):\n",
    "    value = 1\n",
    "    while n > 1:\n",
    "        value *= n\n",
    "        n -= 1\n",
    "    return value"
   ]
  },
  {
   "cell_type": "code",
   "execution_count": 4,
   "metadata": {},
   "outputs": [
    {
     "data": {
      "text/plain": [
       "120"
      ]
     },
     "execution_count": 4,
     "metadata": {},
     "output_type": "execute_result"
    }
   ],
   "source": [
    "factorials(5)"
   ]
  },
  {
   "cell_type": "code",
   "execution_count": 11,
   "metadata": {},
   "outputs": [],
   "source": [
    "def penjumlahan(bilangan1, bilangan2,):\n",
    "    return bilangan1 + bilangan2"
   ]
  },
  {
   "cell_type": "code",
   "execution_count": 12,
   "metadata": {},
   "outputs": [
    {
     "data": {
      "text/plain": [
       "14"
      ]
     },
     "execution_count": 12,
     "metadata": {},
     "output_type": "execute_result"
    }
   ],
   "source": [
    "var1 = 5\n",
    "var2 = 9\n",
    "penjumlahan(var1, var2)"
   ]
  },
  {
   "cell_type": "code",
   "execution_count": 9,
   "metadata": {},
   "outputs": [],
   "source": [
    "def penjumlahaninputlist(list_input):\n",
    "    total = 0\n",
    "    for i in list_input:\n",
    "        total += i\n",
    "    return total"
   ]
  },
  {
   "cell_type": "code",
   "execution_count": 13,
   "metadata": {},
   "outputs": [
    {
     "data": {
      "text/plain": [
       "110"
      ]
     },
     "execution_count": 13,
     "metadata": {},
     "output_type": "execute_result"
    }
   ],
   "source": [
    "penjumlahaninputlist([10,10,20,30,40])"
   ]
  },
  {
   "cell_type": "code",
   "execution_count": 14,
   "metadata": {},
   "outputs": [],
   "source": [
    "def penjumlahan(*val_arg):\n",
    "    total = 0\n",
    "    for i in val_arg:\n",
    "        total += i \n",
    "    return total"
   ]
  },
  {
   "cell_type": "code",
   "execution_count": 15,
   "metadata": {},
   "outputs": [
    {
     "data": {
      "text/plain": [
       "16"
      ]
     },
     "execution_count": 15,
     "metadata": {},
     "output_type": "execute_result"
    }
   ],
   "source": [
    "penjumlahan(1,2,3,4,6)"
   ]
  },
  {
   "cell_type": "code",
   "execution_count": 16,
   "metadata": {},
   "outputs": [],
   "source": [
    "# def f(x):\n",
    "#     value = x**2 + (2*x) + 3\n",
    "#     return value\n",
    "\n",
    "g = lambda x: x**2 + 2*x + 3"
   ]
  },
  {
   "cell_type": "code",
   "execution_count": 17,
   "metadata": {},
   "outputs": [],
   "source": [
    "pengalian = lambda x, y: x*y"
   ]
  },
  {
   "cell_type": "code",
   "execution_count": 18,
   "metadata": {},
   "outputs": [
    {
     "data": {
      "text/plain": [
       "14"
      ]
     },
     "execution_count": 18,
     "metadata": {},
     "output_type": "execute_result"
    }
   ],
   "source": [
    "pengalian(2,7)"
   ]
  },
  {
   "attachments": {},
   "cell_type": "markdown",
   "metadata": {},
   "source": [
    "4! = 4 * 3 * 2 * 1! "
   ]
  },
  {
   "cell_type": "code",
   "execution_count": 19,
   "metadata": {},
   "outputs": [],
   "source": [
    "def factorials(n):\n",
    "    if (n == 1) or (n == 0):\n",
    "        return 1\n",
    "    else:\n",
    "        return n * factorials(n-1)"
   ]
  },
  {
   "cell_type": "code",
   "execution_count": 20,
   "metadata": {},
   "outputs": [
    {
     "data": {
      "text/plain": [
       "120"
      ]
     },
     "execution_count": 20,
     "metadata": {},
     "output_type": "execute_result"
    }
   ],
   "source": [
    "factorials(5)"
   ]
  },
  {
   "cell_type": "code",
   "execution_count": 21,
   "metadata": {},
   "outputs": [
    {
     "name": "stdout",
     "output_type": "stream",
     "text": [
      "Ini masuk prosedur\n",
      "ini adalah input pertama\n",
      "ini adalah input kedua\n"
     ]
    }
   ],
   "source": [
    "def prosedur(input1, input2):\n",
    "    print(\"Ini masuk prosedur\")\n",
    "    print(input1)\n",
    "    print(input2)\n",
    "\n",
    "prosedur(\"ini adalah input pertama\", \"ini adalah input kedua\")\n"
   ]
  },
  {
   "cell_type": "code",
   "execution_count": 22,
   "metadata": {},
   "outputs": [
    {
     "name": "stdout",
     "output_type": "stream",
     "text": [
      "Values list di dalam procedure:  [10, 20, 30, 40, [1, 23, 4, 5]]\n",
      "Values list di luar procedure:  [10, 20, 30, 40, [1, 23, 4, 5]]\n"
     ]
    }
   ],
   "source": [
    "def prodc (list_input):\n",
    "    list_input.append([1,23,4,5])\n",
    "    print(\"Values list di dalam procedure: \", list_input)\n",
    "\n",
    "list1 = [10,20,30,40]\n",
    "prodc(list1)\n",
    "print(\"Values list di luar procedure: \", list1)\n"
   ]
  },
  {
   "cell_type": "code",
   "execution_count": 23,
   "metadata": {},
   "outputs": [
    {
     "name": "stdout",
     "output_type": "stream",
     "text": [
      "Values list di dalam procedure:  [1, 23, 4, 5]\n",
      "Values list di luar procedure:  [10, 20, 30, 40]\n"
     ]
    }
   ],
   "source": [
    "def prodc (list_input):\n",
    "    list_input = [1,23,4,5]\n",
    "    print(\"Values list di dalam procedure: \", list_input)\n",
    "\n",
    "list1 = [10,20,30,40]\n",
    "prodc(list1)\n",
    "print(\"Values list di luar procedure: \", list1)"
   ]
  },
  {
   "cell_type": "code",
   "execution_count": 24,
   "metadata": {},
   "outputs": [
    {
     "name": "stdout",
     "output_type": "stream",
     "text": [
      "Bilangan di dalam prosedur:  6\n",
      "Bilangan di luar prosedur:  5\n"
     ]
    }
   ],
   "source": [
    "def tambah_satu (x):\n",
    "    x = x + 1\n",
    "    print(\"Bilangan di dalam prosedur: \", x)\n",
    "\n",
    "\n",
    "bil1 = 5\n",
    "tambah_satu(bil1)\n",
    "print(\"Bilangan di luar prosedur: \", bil1)"
   ]
  },
  {
   "cell_type": "code",
   "execution_count": 25,
   "metadata": {},
   "outputs": [],
   "source": [
    "def prosedur_no_input(s):\n",
    "    print(\"ABC\")\n",
    "    print(\"DEF\")\n",
    "    print(s)\n",
    "    # return 0"
   ]
  },
  {
   "cell_type": "code",
   "execution_count": 26,
   "metadata": {},
   "outputs": [
    {
     "name": "stdout",
     "output_type": "stream",
     "text": [
      "ABC\n",
      "DEF\n",
      "INI STRING\n"
     ]
    }
   ],
   "source": [
    "prosedur_no_input(s = \"INI STRING\")"
   ]
  },
  {
   "cell_type": "code",
   "execution_count": 27,
   "metadata": {},
   "outputs": [],
   "source": [
    "def pembagian(x,y):\n",
    "    return x/y"
   ]
  },
  {
   "cell_type": "code",
   "execution_count": 28,
   "metadata": {},
   "outputs": [
    {
     "data": {
      "text/plain": [
       "0.4"
      ]
     },
     "execution_count": 28,
     "metadata": {},
     "output_type": "execute_result"
    }
   ],
   "source": [
    "pembagian(y=5, x=2)"
   ]
  },
  {
   "cell_type": "code",
   "execution_count": 31,
   "metadata": {},
   "outputs": [
    {
     "name": "stdout",
     "output_type": "stream",
     "text": [
      "Nama:  Dwi Ratna\n",
      "Umur:  24\n"
     ]
    }
   ],
   "source": [
    "def printinfo(nama, umur):\n",
    "    print(\"Nama: \", nama)\n",
    "    print(\"Umur: \", umur)\n",
    "\n",
    "printinfo(umur=24, nama=\"Dwi Ratna\")"
   ]
  },
  {
   "cell_type": "code",
   "execution_count": 32,
   "metadata": {},
   "outputs": [
    {
     "name": "stdout",
     "output_type": "stream",
     "text": [
      "Nama:  Dandi\n",
      "Umur:  28\n"
     ]
    }
   ],
   "source": [
    "def printinfo(nama, umur=27):\n",
    "    print(\"Nama: \", nama)\n",
    "    print(\"Umur: \", umur)\n",
    "\n",
    "printinfo(nama=\"Dandi\", umur=28)"
   ]
  },
  {
   "cell_type": "code",
   "execution_count": 33,
   "metadata": {},
   "outputs": [
    {
     "name": "stdout",
     "output_type": "stream",
     "text": [
      "Bilangan di dalam prosedur:  6\n",
      "Bilangan di luar prosedur:  6\n"
     ]
    }
   ],
   "source": [
    "bil1 = 5\n",
    "\n",
    "def tambah_satu ():\n",
    "    global bil1\n",
    "    bil1 += 1\n",
    "    # bil2 = 3\n",
    "    print(\"Bilangan di dalam prosedur: \", bil1)\n",
    "\n",
    "\n",
    "\n",
    "\n",
    "tambah_satu()\n",
    "print(\"Bilangan di luar prosedur: \", bil1)\n",
    "# print(bil2)"
   ]
  },
  {
   "cell_type": "code",
   "execution_count": 34,
   "metadata": {},
   "outputs": [
    {
     "name": "stdout",
     "output_type": "stream",
     "text": [
      "Di dalam prosedur:  9\n",
      "Di luar prosedur:  9\n"
     ]
    }
   ],
   "source": [
    "total = 0\n",
    "def jumlah(bil1, bil2):\n",
    "    global total\n",
    "    total = bil1 + bil2\n",
    "    print(\"Di dalam prosedur: \", total)\n",
    "    # return total\n",
    "\n",
    "jumlah(5,4)\n",
    "print(\"Di luar prosedur: \", total)"
   ]
  },
  {
   "cell_type": "code",
   "execution_count": 35,
   "metadata": {},
   "outputs": [
    {
     "data": {
      "text/plain": [
       "50"
      ]
     },
     "execution_count": 35,
     "metadata": {},
     "output_type": "execute_result"
    }
   ],
   "source": [
    "bilangan1 = 20\n",
    "\n",
    "def jumlahPertama():\n",
    "    bilangan2 = 30\n",
    "    # bilangan1 = 10\n",
    "    return bilangan1 + bilangan2\n",
    "\n",
    "jumlahPertama()"
   ]
  },
  {
   "cell_type": "code",
   "execution_count": 44,
   "metadata": {},
   "outputs": [
    {
     "ename": "ModuleNotFoundError",
     "evalue": "No module named 'mod'",
     "output_type": "error",
     "traceback": [
      "\u001b[1;31m---------------------------------------------------------------------------\u001b[0m",
      "\u001b[1;31mModuleNotFoundError\u001b[0m                       Traceback (most recent call last)",
      "\u001b[1;32m~\\AppData\\Local\\Temp\\ipykernel_8220\\1013264304.py\u001b[0m in \u001b[0;36m<module>\u001b[1;34m\u001b[0m\n\u001b[1;32m----> 1\u001b[1;33m \u001b[1;32mimport\u001b[0m \u001b[0mmod\u001b[0m\u001b[1;33m\u001b[0m\u001b[1;33m\u001b[0m\u001b[0m\n\u001b[0m",
      "\u001b[1;31mModuleNotFoundError\u001b[0m: No module named 'mod'"
     ]
    }
   ],
   "source": [
    "import mod"
   ]
  },
  {
   "cell_type": "code",
   "execution_count": null,
   "metadata": {},
   "outputs": [],
   "source": []
  }
 ],
 "metadata": {
  "kernelspec": {
   "display_name": "base",
   "language": "python",
   "name": "python3"
  },
  "language_info": {
   "codemirror_mode": {
    "name": "ipython",
    "version": 3
   },
   "file_extension": ".py",
   "mimetype": "text/x-python",
   "name": "python",
   "nbconvert_exporter": "python",
   "pygments_lexer": "ipython3",
   "version": "3.9.13"
  },
  "orig_nbformat": 4
 },
 "nbformat": 4,
 "nbformat_minor": 2
}
